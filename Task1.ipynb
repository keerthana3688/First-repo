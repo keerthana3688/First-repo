{
 "cells": [
  {
   "cell_type": "code",
   "execution_count": 23,
   "id": "c476bc1c-8f4c-4350-8ec4-a7ad8e43df8b",
   "metadata": {},
   "outputs": [
    {
     "name": "stdout",
     "output_type": "stream",
     "text": [
      "(8807, 12)\n",
      "     show_id     type                  title         director  \\\n",
      "0         s1    Movie   Dick Johnson Is Dead  Kirsten Johnson   \n",
      "1         s2  TV Show          Blood & Water              NaN   \n",
      "2         s3  TV Show              Ganglands  Julien Leclercq   \n",
      "3         s4  TV Show  Jailbirds New Orleans              NaN   \n",
      "4         s5  TV Show           Kota Factory              NaN   \n",
      "...      ...      ...                    ...              ...   \n",
      "8802   s8803    Movie                 Zodiac    David Fincher   \n",
      "8803   s8804  TV Show            Zombie Dumb              NaN   \n",
      "8804   s8805    Movie             Zombieland  Ruben Fleischer   \n",
      "8805   s8806    Movie                   Zoom     Peter Hewitt   \n",
      "8806   s8807    Movie                 Zubaan      Mozez Singh   \n",
      "\n",
      "                                                   cast        country  \\\n",
      "0                                                   NaN  United States   \n",
      "1     Ama Qamata, Khosi Ngema, Gail Mabalane, Thaban...   South Africa   \n",
      "2     Sami Bouajila, Tracy Gotoas, Samuel Jouy, Nabi...            NaN   \n",
      "3                                                   NaN            NaN   \n",
      "4     Mayur More, Jitendra Kumar, Ranjan Raj, Alam K...          India   \n",
      "...                                                 ...            ...   \n",
      "8802  Mark Ruffalo, Jake Gyllenhaal, Robert Downey J...  United States   \n",
      "8803                                                NaN            NaN   \n",
      "8804  Jesse Eisenberg, Woody Harrelson, Emma Stone, ...  United States   \n",
      "8805  Tim Allen, Courteney Cox, Chevy Chase, Kate Ma...  United States   \n",
      "8806  Vicky Kaushal, Sarah-Jane Dias, Raaghav Chanan...          India   \n",
      "\n",
      "              date_added  release_year rating   duration  \\\n",
      "0     September 25, 2021          2020  PG-13     90 min   \n",
      "1     September 24, 2021          2021  TV-MA  2 Seasons   \n",
      "2     September 24, 2021          2021  TV-MA   1 Season   \n",
      "3     September 24, 2021          2021  TV-MA   1 Season   \n",
      "4     September 24, 2021          2021  TV-MA  2 Seasons   \n",
      "...                  ...           ...    ...        ...   \n",
      "8802   November 20, 2019          2007      R    158 min   \n",
      "8803        July 1, 2019          2018  TV-Y7  2 Seasons   \n",
      "8804    November 1, 2019          2009      R     88 min   \n",
      "8805    January 11, 2020          2006     PG     88 min   \n",
      "8806       March 2, 2019          2015  TV-14    111 min   \n",
      "\n",
      "                                              listed_in  \\\n",
      "0                                         Documentaries   \n",
      "1       International TV Shows, TV Dramas, TV Mysteries   \n",
      "2     Crime TV Shows, International TV Shows, TV Act...   \n",
      "3                                Docuseries, Reality TV   \n",
      "4     International TV Shows, Romantic TV Shows, TV ...   \n",
      "...                                                 ...   \n",
      "8802                     Cult Movies, Dramas, Thrillers   \n",
      "8803             Kids' TV, Korean TV Shows, TV Comedies   \n",
      "8804                            Comedies, Horror Movies   \n",
      "8805                 Children & Family Movies, Comedies   \n",
      "8806     Dramas, International Movies, Music & Musicals   \n",
      "\n",
      "                                            description  \n",
      "0     As her father nears the end of his life, filmm...  \n",
      "1     After crossing paths at a party, a Cape Town t...  \n",
      "2     To protect his family from a powerful drug lor...  \n",
      "3     Feuds, flirtations and toilet talk go down amo...  \n",
      "4     In a city of coaching centers known to train I...  \n",
      "...                                                 ...  \n",
      "8802  A political cartoonist, a crime reporter and a...  \n",
      "8803  While living alone in a spooky town, a young g...  \n",
      "8804  Looking to survive in a world taken over by zo...  \n",
      "8805  Dragged from civilian life, a former superhero...  \n",
      "8806  A scrappy but poor boy worms his way into a ty...  \n",
      "\n",
      "[8807 rows x 12 columns]\n",
      "Duplicates removed: 0\n"
     ]
    }
   ],
   "source": [
    "import pandas as pd \n",
    "df=pd.read_csv(\"netflix_titles.csv\")\n",
    "print(df.shape)\n",
    "print(df)\n",
    "before=df.shape[0]\n",
    "#droping duplicate values\n",
    "\n",
    "df=df.drop_duplicates()\n",
    "after=df.shape[0]\n",
    "print(\"Duplicates removed:\",before - after)\n",
    "df['date_added']=df['date_added'].astype(str).str.strip()\n",
    "#standardize text values\n",
    "\n",
    "df['title'] = df['title'].str.strip().str.lower()\n",
    "df['listed_in'] = df['listed_in'].str.strip().str.lower()\n",
    "df['description'] = df['description'].str.strip()\n",
    "df['country'] = df['country'].str.strip()\n",
    "df['director'] = df['director'].str.strip()\n",
    "\n",
    "# renaming column headers\n",
    "df.columns = df.columns.str.strip().str.lower().str.replace(\" \", \"_\")\n",
    "\n"
   ]
  },
  {
   "cell_type": "code",
   "execution_count": 2,
   "id": "5dac7b46-89c7-42a8-aa1a-40f349449300",
   "metadata": {},
   "outputs": [
    {
     "data": {
      "text/plain": [
       "show_id            0\n",
       "type               0\n",
       "title              0\n",
       "director        2634\n",
       "cast             825\n",
       "country          831\n",
       "date_added        10\n",
       "release_year       0\n",
       "rating             4\n",
       "duration           3\n",
       "listed_in          0\n",
       "description        0\n",
       "dtype: int64"
      ]
     },
     "execution_count": 2,
     "metadata": {},
     "output_type": "execute_result"
    }
   ],
   "source": [
    "df.isnull().sum()\n"
   ]
  },
  {
   "cell_type": "code",
   "execution_count": 3,
   "id": "b4edb4c6-d357-486e-9e8c-853b6b5534d1",
   "metadata": {},
   "outputs": [
    {
     "name": "stdout",
     "output_type": "stream",
     "text": [
      "<class 'pandas.core.frame.DataFrame'>\n",
      "RangeIndex: 8807 entries, 0 to 8806\n",
      "Data columns (total 12 columns):\n",
      " #   Column        Non-Null Count  Dtype \n",
      "---  ------        --------------  ----- \n",
      " 0   show_id       8807 non-null   object\n",
      " 1   type          8807 non-null   object\n",
      " 2   title         8807 non-null   object\n",
      " 3   director      6173 non-null   object\n",
      " 4   cast          7982 non-null   object\n",
      " 5   country       7976 non-null   object\n",
      " 6   date_added    8797 non-null   object\n",
      " 7   release_year  8807 non-null   int64 \n",
      " 8   rating        8803 non-null   object\n",
      " 9   duration      8804 non-null   object\n",
      " 10  listed_in     8807 non-null   object\n",
      " 11  description   8807 non-null   object\n",
      "dtypes: int64(1), object(11)\n",
      "memory usage: 825.8+ KB\n"
     ]
    }
   ],
   "source": [
    "df.info()"
   ]
  },
  {
   "cell_type": "code",
   "execution_count": 11,
   "id": "02bb4ce5-db4c-40e7-b44f-700ed8449eca",
   "metadata": {},
   "outputs": [
    {
     "name": "stdout",
     "output_type": "stream",
     "text": [
      "0       September 25, 2021\n",
      "1       September 24, 2021\n",
      "2       September 24, 2021\n",
      "3       September 24, 2021\n",
      "4       September 24, 2021\n",
      "               ...        \n",
      "8802     November 20, 2019\n",
      "8803          July 1, 2019\n",
      "8804      November 1, 2019\n",
      "8805      January 11, 2020\n",
      "8806         March 2, 2019\n",
      "Name: date_added, Length: 8807, dtype: object\n"
     ]
    }
   ],
   "source": [
    "print(df['date_added'])"
   ]
  },
  {
   "cell_type": "code",
   "execution_count": 14,
   "id": "be575d16-4fdc-4b1e-855e-462611f1217e",
   "metadata": {},
   "outputs": [
    {
     "name": "stdout",
     "output_type": "stream",
     "text": [
      "0        dick johnson is dead\n",
      "1               blood & water\n",
      "2                   ganglands\n",
      "3       jailbirds new orleans\n",
      "4                kota factory\n",
      "                ...          \n",
      "8802                   zodiac\n",
      "8803              zombie dumb\n",
      "8804               zombieland\n",
      "8805                     zoom\n",
      "8806                   zubaan\n",
      "Name: title, Length: 8807, dtype: object\n"
     ]
    }
   ],
   "source": [
    "print(df['title'])"
   ]
  },
  {
   "cell_type": "code",
   "execution_count": 15,
   "id": "94c7e068-8f3d-439d-be32-5645338ca192",
   "metadata": {},
   "outputs": [
    {
     "name": "stdout",
     "output_type": "stream",
     "text": [
      "0                                           documentaries\n",
      "1         international tv shows, tv dramas, tv mysteries\n",
      "2       crime tv shows, international tv shows, tv act...\n",
      "3                                  docuseries, reality tv\n",
      "4       international tv shows, romantic tv shows, tv ...\n",
      "                              ...                        \n",
      "8802                       cult movies, dramas, thrillers\n",
      "8803               kids' tv, korean tv shows, tv comedies\n",
      "8804                              comedies, horror movies\n",
      "8805                   children & family movies, comedies\n",
      "8806       dramas, international movies, music & musicals\n",
      "Name: listed_in, Length: 8807, dtype: object\n"
     ]
    }
   ],
   "source": [
    "print(df['listed_in'])"
   ]
  },
  {
   "cell_type": "code",
   "execution_count": 16,
   "id": "f7b4dc67-2f44-4a3b-9fdd-befc6ba34306",
   "metadata": {},
   "outputs": [
    {
     "name": "stdout",
     "output_type": "stream",
     "text": [
      "0       As her father nears the end of his life, filmm...\n",
      "1       After crossing paths at a party, a Cape Town t...\n",
      "2       To protect his family from a powerful drug lor...\n",
      "3       Feuds, flirtations and toilet talk go down amo...\n",
      "4       In a city of coaching centers known to train I...\n",
      "                              ...                        \n",
      "8802    A political cartoonist, a crime reporter and a...\n",
      "8803    While living alone in a spooky town, a young g...\n",
      "8804    Looking to survive in a world taken over by zo...\n",
      "8805    Dragged from civilian life, a former superhero...\n",
      "8806    A scrappy but poor boy worms his way into a ty...\n",
      "Name: description, Length: 8807, dtype: object\n"
     ]
    }
   ],
   "source": [
    "print(df['description'])"
   ]
  },
  {
   "cell_type": "code",
   "execution_count": 17,
   "id": "6971f743-747a-40c3-805b-fa4cd5fc2bee",
   "metadata": {},
   "outputs": [],
   "source": [
    "#renaming column headers\n",
    "df.columns = df.columns.str.strip().str.lower().str.replace(\" \", \"_\")"
   ]
  },
  {
   "cell_type": "code",
   "execution_count": 19,
   "id": "137a2cb3-54f0-4378-b613-b6b396a462fe",
   "metadata": {},
   "outputs": [
    {
     "name": "stdout",
     "output_type": "stream",
     "text": [
      "Index(['show_id', 'type', 'title', 'director', 'cast', 'country', 'date_added',\n",
      "       'release_year', 'rating', 'duration', 'listed_in', 'description'],\n",
      "      dtype='object')\n"
     ]
    }
   ],
   "source": [
    "print(df.columns)"
   ]
  },
  {
   "cell_type": "code",
   "execution_count": 25,
   "id": "3d6c779d-2285-4f3e-bcda-6f2d729e1b2d",
   "metadata": {},
   "outputs": [
    {
     "name": "stdout",
     "output_type": "stream",
     "text": [
      "0      2021-09-25\n",
      "1      2021-09-24\n",
      "2      2021-09-24\n",
      "3      2021-09-24\n",
      "4      2021-09-24\n",
      "          ...    \n",
      "8802   2019-11-20\n",
      "8803   2019-07-01\n",
      "8804   2019-11-01\n",
      "8805   2020-01-11\n",
      "8806   2019-03-02\n",
      "Name: date_added, Length: 8807, dtype: datetime64[ns]\n"
     ]
    }
   ],
   "source": [
    "#converting date formats\n",
    "df['date_added'] = pd.to_datetime(df['date_added'], errors='coerce')\n",
    "print(df['date_added'])"
   ]
  },
  {
   "cell_type": "code",
   "execution_count": 27,
   "id": "e2497652-5152-494b-aee9-bb12512e1a72",
   "metadata": {},
   "outputs": [
    {
     "name": "stdout",
     "output_type": "stream",
     "text": [
      "0       2021.0\n",
      "1       2021.0\n",
      "2       2021.0\n",
      "3       2021.0\n",
      "4       2021.0\n",
      "         ...  \n",
      "8802    2019.0\n",
      "8803    2019.0\n",
      "8804    2019.0\n",
      "8805    2020.0\n",
      "8806    2019.0\n",
      "Name: year_added, Length: 8807, dtype: float64\n",
      "0        9.0\n",
      "1        9.0\n",
      "2        9.0\n",
      "3        9.0\n",
      "4        9.0\n",
      "        ... \n",
      "8802    11.0\n",
      "8803     7.0\n",
      "8804    11.0\n",
      "8805     1.0\n",
      "8806     3.0\n",
      "Name: month_added, Length: 8807, dtype: float64\n",
      "0       2020\n",
      "1       2021\n",
      "2       2021\n",
      "3       2021\n",
      "4       2021\n",
      "        ... \n",
      "8802    2007\n",
      "8803    2018\n",
      "8804    2009\n",
      "8805    2006\n",
      "8806    2015\n",
      "Name: release_year, Length: 8807, dtype: int32\n"
     ]
    }
   ],
   "source": [
    "#fixing data types\n",
    "df['year_added'] = df['date_added'].dt.year\n",
    "df['month_added'] = df['date_added'].dt.month\n",
    "df['release_year'] = df['release_year'].astype(int)\n",
    "print(df['year_added'])\n",
    "print(df['month_added'])\n",
    "print(df['release_year'])"
   ]
  },
  {
   "cell_type": "code",
   "execution_count": null,
   "id": "1026e8f3-80cc-4073-9763-2ddfb5123ec8",
   "metadata": {},
   "outputs": [],
   "source": []
  }
 ],
 "metadata": {
  "kernelspec": {
   "display_name": "Python 3 (ipykernel)",
   "language": "python",
   "name": "python3"
  },
  "language_info": {
   "codemirror_mode": {
    "name": "ipython",
    "version": 3
   },
   "file_extension": ".py",
   "mimetype": "text/x-python",
   "name": "python",
   "nbconvert_exporter": "python",
   "pygments_lexer": "ipython3",
   "version": "3.12.7"
  }
 },
 "nbformat": 4,
 "nbformat_minor": 5
}
